{
 "cells": [
  {
   "cell_type": "code",
   "execution_count": 1,
   "id": "576ff8f1-fc59-48c7-91f5-a5c53c9ac3a0",
   "metadata": {},
   "outputs": [],
   "source": [
    "import ast\n",
    "content = []\n",
    "f=open(\"BERT_large_results/result_bert_large_liang_scrubbed_datasets_data.txt\")\n",
    "for line in f:\n",
    "    content.append(ast.literal_eval(line.strip('\\n')))\n",
    "# print(content)"
   ]
  },
  {
   "cell_type": "code",
   "execution_count": 2,
   "id": "05e24597-cb1a-4115-9950-f0c2b1ef4f19",
   "metadata": {},
   "outputs": [],
   "source": [
    "import statistics\n",
    "TPRD_scores = [statistics.mean(i) for i in content[0]]\n",
    "FPRD_scores = [statistics.mean(i) for i in content[1]]\n",
    "F_accuracy_scores = content[2]\n",
    "M_accuracy_scores = content[3]\n",
    "CF_scores = content[4]\n",
    "all_TPRD_scores = [statistics.mean(i) for i in content[5]]\n",
    "all_FPRD_scores = [statistics.mean(i) for i in content[6]]\n",
    "all_F_accuracy_scores = content[7]\n",
    "all_M_accuracy_scores = content[8]"
   ]
  },
  {
   "cell_type": "code",
   "execution_count": 3,
   "id": "3a501f82-af03-42ad-a841-3113c3629c01",
   "metadata": {},
   "outputs": [],
   "source": [
    "res_list = [TPRD_scores, FPRD_scores, F_accuracy_scores, M_accuracy_scores,  CF_scores, all_TPRD_scores, all_FPRD_scores, all_F_accuracy_scores, all_M_accuracy_scores]"
   ]
  },
  {
   "cell_type": "code",
   "execution_count": 4,
   "id": "bfb91e2a-ea52-484a-9108-63b648638770",
   "metadata": {},
   "outputs": [
    {
     "data": {
      "text/plain": [
       "[[0.11557058267926328,\n",
       "  0.15232937599916216,\n",
       "  0.0955937930159103,\n",
       "  0.1873305960745731,\n",
       "  0.12965865517297825,\n",
       "  0.18878341599449067,\n",
       "  0.11896168061368899,\n",
       "  0.1269728346126084,\n",
       "  0.08664797051023553,\n",
       "  0.11974849857996411],\n",
       " [0.011807001615799307,\n",
       "  0.008515045112700714,\n",
       "  0.011384528276854078,\n",
       "  0.011102591300278731,\n",
       "  0.009296026672543489,\n",
       "  0.009327034211177473,\n",
       "  0.012095116831518737,\n",
       "  0.009704343885300473,\n",
       "  0.008383072174547285,\n",
       "  0.008651288209740354],\n",
       " [0.9841112214498511,\n",
       "  0.9834119834119834,\n",
       "  0.9829607415485279,\n",
       "  0.9823356231599607,\n",
       "  0.9810537961554419,\n",
       "  0.9834512022630835,\n",
       "  0.9837662337662337,\n",
       "  0.98352687010532,\n",
       "  0.9845910138248848,\n",
       "  0.9807060755336617],\n",
       " [0.978002749656293,\n",
       "  0.9826238053866203,\n",
       "  0.9804252009333679,\n",
       "  0.9802955665024631,\n",
       "  0.9809438547128789,\n",
       "  0.9799498746867168,\n",
       "  0.9805423047953804,\n",
       "  0.9795918367346939,\n",
       "  0.9843325931408833,\n",
       "  0.9809954751131222],\n",
       " [0.0031241588,\n",
       "  0.0032480636,\n",
       "  0.003007794,\n",
       "  0.003365726,\n",
       "  0.0026709023,\n",
       "  0.0031931812,\n",
       "  0.002889537,\n",
       "  0.0029387712,\n",
       "  0.00310881,\n",
       "  0.00281355],\n",
       " [0.10354322842893142,\n",
       "  0.15155026000252664,\n",
       "  0.07913065120099953,\n",
       "  0.18197770651616882,\n",
       "  0.11569874091353947,\n",
       "  0.17806011798437463,\n",
       "  0.1063893427207098,\n",
       "  0.11536965221381572,\n",
       "  0.08469543273047521,\n",
       "  0.10645214354922343],\n",
       " [0.010819817044685162,\n",
       "  0.00622045811044651,\n",
       "  0.009034172754832747,\n",
       "  0.009245370342629544,\n",
       "  0.007634861357010294,\n",
       "  0.008408912328549064,\n",
       "  0.010170300649698292,\n",
       "  0.008803687431985717,\n",
       "  0.007274925540030881,\n",
       "  0.007281113279041372],\n",
       " [0.9832600368846645,\n",
       "  0.9826254826254827,\n",
       "  0.9823473282442748,\n",
       "  0.981774849292023,\n",
       "  0.9806389157792836,\n",
       "  0.9828854314002828,\n",
       "  0.9831309994353473,\n",
       "  0.9826492033486363,\n",
       "  0.9839429723502304,\n",
       "  0.9805692391899289],\n",
       " [0.977440319960005,\n",
       "  0.982065284845476,\n",
       "  0.9804252009333679,\n",
       "  0.9800429455601869,\n",
       "  0.9808159611203479,\n",
       "  0.9798245614035088,\n",
       "  0.9800401707255837,\n",
       "  0.9793301936159079,\n",
       "  0.9835307179866766,\n",
       "  0.9809954751131222]]"
      ]
     },
     "execution_count": 4,
     "metadata": {},
     "output_type": "execute_result"
    }
   ],
   "source": [
    "res_list"
   ]
  },
  {
   "cell_type": "code",
   "execution_count": 5,
   "id": "266878e8-8dcf-4eb5-ac6c-d6debdc0eee1",
   "metadata": {},
   "outputs": [
    {
     "data": {
      "text/plain": [
       "['TPRD_scores',\n",
       " 'FPRD_scores',\n",
       " 'F_accuracy_scores',\n",
       " 'M_accuracy_scores',\n",
       " 'CF_scores',\n",
       " 'all_TPRD_scores',\n",
       " 'all_FPRD_scores',\n",
       " 'all_F_accuracy_scores',\n",
       " 'all_M_accuracy_scores']"
      ]
     },
     "execution_count": 5,
     "metadata": {},
     "output_type": "execute_result"
    }
   ],
   "source": [
    "res_list_labels = [\"TPRD_scores\", \"FPRD_scores\", \"F_accuracy_scores\", \"M_accuracy_scores\",  \"CF_scores\", \"all_TPRD_scores\", \"all_FPRD_scores\", \"all_F_accuracy_scores\", \"all_M_accuracy_scores\"]\n",
    "res_list_labels"
   ]
  },
  {
   "cell_type": "code",
   "execution_count": 6,
   "id": "8a5928a5-d046-4753-8fff-39d8d37ee090",
   "metadata": {},
   "outputs": [],
   "source": [
    "import numpy as np\n",
    "import scipy.stats\n",
    "\n",
    "def mean_confidence_interval(data, confidence=0.95):\n",
    "    a = 1.0 * np.array(data)\n",
    "    n = len(a)\n",
    "    m, se = np.mean(a), scipy.stats.sem(a)\n",
    "    h = se * scipy.stats.t.ppf((1 + confidence) / 2., n-1)\n",
    "    return round(m, 3), round(h, 2)"
   ]
  },
  {
   "cell_type": "code",
   "execution_count": 7,
   "id": "da5f68eb-70b9-4eae-bb05-8e68a4cba17e",
   "metadata": {},
   "outputs": [
    {
     "name": "stdout",
     "output_type": "stream",
     "text": [
      "TPRD_scores :  (0.132, 0.02)\n",
      "FPRD_scores :  (0.01, 0.0)\n",
      "F_accuracy_scores :  (0.983, 0.0)\n",
      "M_accuracy_scores :  (0.981, 0.0)\n",
      "CF_scores :  (0.003, 0.0)\n",
      "all_TPRD_scores :  (0.122, 0.03)\n",
      "all_FPRD_scores :  (0.008, 0.0)\n",
      "all_F_accuracy_scores :  (0.982, 0.0)\n",
      "all_M_accuracy_scores :  (0.98, 0.0)\n"
     ]
    }
   ],
   "source": [
    "all_final = []\n",
    "for key, i in enumerate(res_list):\n",
    "    print(res_list_labels[key],\": \", mean_confidence_interval(i))\n",
    "    # all_final.append()"
   ]
  },
  {
   "cell_type": "code",
   "execution_count": 8,
   "id": "1f3d3656-3075-4721-a922-9460416713ef",
   "metadata": {},
   "outputs": [
    {
     "name": "stdout",
     "output_type": "stream",
     "text": [
      "& 0.132 $\\pm$ 0.02 & 0.01 $\\pm$ 0.0 & 0.983 $\\pm$ 0.0 & 0.981 $\\pm$ 0.0 & 0.003 $\\pm$ 0.0 & 0.122 $\\pm$ 0.03 & 0.008 $\\pm$ 0.0 & 0.982 $\\pm$ 0.0 & 0.98 $\\pm$ 0.0 "
     ]
    }
   ],
   "source": [
    "all_final = []\n",
    "for key, i in enumerate(res_list):\n",
    "    print(\"&\" , mean_confidence_interval(i)[0], \"$\\pm$\", mean_confidence_interval(i)[1], end =\" \")"
   ]
  }
 ],
 "metadata": {
  "kernelspec": {
   "display_name": "Python 3 (ipykernel)",
   "language": "python",
   "name": "python3"
  },
  "language_info": {
   "codemirror_mode": {
    "name": "ipython",
    "version": 3
   },
   "file_extension": ".py",
   "mimetype": "text/x-python",
   "name": "python",
   "nbconvert_exporter": "python",
   "pygments_lexer": "ipython3",
   "version": "3.10.6"
  }
 },
 "nbformat": 4,
 "nbformat_minor": 5
}
